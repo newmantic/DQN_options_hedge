{
  "cells": [
    {
      "cell_type": "markdown",
      "metadata": {
        "id": "view-in-github",
        "colab_type": "text"
      },
      "source": [
        "<a href=\"https://colab.research.google.com/github/newmantic/DQN_options_hedge/blob/main/DQN_options_hedge.ipynb\" target=\"_parent\"><img src=\"https://colab.research.google.com/assets/colab-badge.svg\" alt=\"Open In Colab\"/></a>"
      ]
    },
    {
      "cell_type": "code",
      "execution_count": null,
      "metadata": {
        "id": "iViDc204Hul5"
      },
      "outputs": [],
      "source": [
        "pip install gym numpy pandas tensorflow"
      ]
    },
    {
      "cell_type": "code",
      "execution_count": null,
      "metadata": {
        "id": "0NPDXac-H06m"
      },
      "outputs": [],
      "source": [
        "import gym\n",
        "import numpy as np\n",
        "\n",
        "class OptionHedgingEnv(gym.Env):\n",
        "    def __init__(self):\n",
        "        super(OptionHedgingEnv, self).__init__()\n",
        "\n",
        "        # Define action space: 0 (do nothing), 1 (buy call option), 2 (buy put option), 3 (sell call), 4 (sell put)\n",
        "        self.action_space = gym.spaces.Discrete(5)\n",
        "\n",
        "        # Define observation space (state): stock price, portfolio position, time to expiration\n",
        "        self.observation_space = gym.spaces.Box(low=0, high=np.inf, shape=(3,), dtype=np.float32)\n",
        "\n",
        "        # Simulate initial state\n",
        "        self.stock_price = 100\n",
        "        self.portfolio_value = 100000\n",
        "        self.time_to_expiration = 30  # in days\n",
        "\n",
        "    def step(self, action):\n",
        "        # Apply action (buy/sell options)\n",
        "        option_price = self._get_option_price(self.stock_price, self.time_to_expiration)\n",
        "        if action == 1:  # buy call\n",
        "            self.portfolio_value -= option_price\n",
        "        elif action == 2:  # buy put\n",
        "            self.portfolio_value -= option_price\n",
        "        elif action == 3:  # sell call\n",
        "            self.portfolio_value += option_price\n",
        "        elif action == 4:  # sell put\n",
        "            self.portfolio_value += option_price\n",
        "\n",
        "        # Simulate next time step (stock price change)\n",
        "        self.stock_price += np.random.normal(0, 1)\n",
        "        self.time_to_expiration -= 1\n",
        "\n",
        "        # Calculate reward (hedging effectiveness)\n",
        "        reward = self._calculate_reward(self.portfolio_value)\n",
        "\n",
        "        # Check if done (when options expire or max steps reached)\n",
        "        done = self.time_to_expiration <= 0\n",
        "\n",
        "        # Update state\n",
        "        state = np.array([self.stock_price, self.portfolio_value, self.time_to_expiration], dtype=np.float32)\n",
        "\n",
        "        return state, reward, done, {}\n",
        "\n",
        "    def reset(self):\n",
        "        self.stock_price = 100\n",
        "        self.portfolio_value = 100000\n",
        "        self.time_to_expiration = 30\n",
        "        return np.array([self.stock_price, self.portfolio_value, self.time_to_expiration], dtype=np.float32)\n",
        "\n",
        "    def _get_option_price(self, stock_price, time_to_expiration):\n",
        "        # Simple option pricing model (e.g., Black-Scholes could be used here)\n",
        "        return max(1, np.random.normal(10, 2))\n",
        "\n",
        "    def _calculate_reward(self, portfolio_value):\n",
        "        # Reward function based on portfolio protection and minimizing cost\n",
        "        return portfolio_value / 1000\n"
      ]
    },
    {
      "cell_type": "code",
      "execution_count": null,
      "metadata": {
        "id": "bGjmuh7KH8Rn"
      },
      "outputs": [],
      "source": [
        "import tensorflow as tf\n",
        "import random\n",
        "from tensorflow.keras import layers\n",
        "\n",
        "class DQNAgent:\n",
        "    def __init__(self, state_size, action_size):\n",
        "        self.state_size = state_size\n",
        "        self.action_size = action_size\n",
        "        self.memory = []\n",
        "        self.gamma = 0.95    # discount rate\n",
        "        self.epsilon = 1.0   # exploration rate\n",
        "        self.epsilon_min = 0.01\n",
        "        self.epsilon_decay = 0.995\n",
        "        self.learning_rate = 0.001\n",
        "        self.model = self._build_model()\n",
        "\n",
        "    def _build_model(self):\n",
        "        # Neural network for deep Q-learning model\n",
        "        model = tf.keras.Sequential()\n",
        "        model.add(layers.Dense(24, input_dim=self.state_size, activation='relu'))\n",
        "        model.add(layers.Dense(24, activation='relu'))\n",
        "        model.add(layers.Dense(self.action_size, activation='linear'))\n",
        "\n",
        "        # Use 'learning_rate' instead of 'lr'\n",
        "        model.compile(loss='mse', optimizer=tf.keras.optimizers.Adam(learning_rate=self.learning_rate))\n",
        "        return model\n",
        "\n",
        "    def remember(self, state, action, reward, next_state, done):\n",
        "        self.memory.append((state, action, reward, next_state, done))\n",
        "\n",
        "    def act(self, state):\n",
        "        if np.random.rand() <= self.epsilon:\n",
        "            return np.random.choice(self.action_size)  # Exploration\n",
        "        q_values = self.model.predict(state)\n",
        "        return np.argmax(q_values[0])  # Exploitation\n",
        "\n",
        "    def replay(self, batch_size):\n",
        "        # Use random.sample to get a random minibatch from memory\n",
        "        minibatch = random.sample(self.memory, batch_size)\n",
        "        for state, action, reward, next_state, done in minibatch:\n",
        "            target = reward\n",
        "            if not done:\n",
        "                target = (reward + self.gamma * np.amax(self.model.predict(next_state)[0]))\n",
        "            target_f = self.model.predict(state)\n",
        "            target_f[0][action] = target\n",
        "            self.model.fit(state, target_f, epochs=1, verbose=0)\n",
        "        if self.epsilon > self.epsilon_min:\n",
        "            self.epsilon *= self.epsilon_decay"
      ]
    },
    {
      "cell_type": "code",
      "execution_count": null,
      "metadata": {
        "colab": {
          "background_save": true
        },
        "id": "5jB3eIE0IBF-"
      },
      "outputs": [],
      "source": [
        "env = OptionHedgingEnv()\n",
        "state_size = env.observation_space.shape[0]\n",
        "action_size = env.action_space.n\n",
        "agent = DQNAgent(state_size, action_size)\n",
        "episodes = 1000\n",
        "batch_size = 32\n",
        "\n",
        "for e in range(episodes):\n",
        "    state = env.reset()\n",
        "    state = np.reshape(state, [1, state_size])\n",
        "    for time in range(500):\n",
        "        action = agent.act(state)\n",
        "        next_state, reward, done, _ = env.step(action)\n",
        "        next_state = np.reshape(next_state, [1, state_size])\n",
        "        agent.remember(state, action, reward, next_state, done)\n",
        "        state = next_state\n",
        "        if done:\n",
        "            print(f\"episode: {e}/{episodes}, score: {reward}, epsilon: {agent.epsilon:.2}\")\n",
        "            break\n",
        "        if len(agent.memory) > batch_size:\n",
        "            agent.replay(batch_size)"
      ]
    }
  ],
  "metadata": {
    "colab": {
      "provenance": [],
      "authorship_tag": "ABX9TyNR6vvMcNuFsX/ZNtVrUpoh",
      "include_colab_link": true
    },
    "kernelspec": {
      "display_name": "Python 3",
      "name": "python3"
    },
    "language_info": {
      "name": "python"
    }
  },
  "nbformat": 4,
  "nbformat_minor": 0
}